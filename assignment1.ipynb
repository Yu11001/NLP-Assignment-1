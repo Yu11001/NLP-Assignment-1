{
 "cells": [
  {
   "cell_type": "markdown",
   "id": "21beb480cd729cbb",
   "metadata": {},
   "source": [
    "<h1>Assignment 1</h1>"
   ]
  },
  {
   "cell_type": "code",
   "execution_count": 57,
   "id": "2904bc6a",
   "metadata": {},
   "outputs": [
    {
     "name": "stderr",
     "output_type": "stream",
     "text": [
      "[nltk_data] Downloading package punkt to\n",
      "[nltk_data]     C:\\Users\\24746\\AppData\\Roaming\\nltk_data...\n",
      "[nltk_data]   Package punkt is already up-to-date!\n"
     ]
    },
    {
     "data": {
      "text/plain": [
       "True"
      ]
     },
     "execution_count": 57,
     "metadata": {},
     "output_type": "execute_result"
    }
   ],
   "source": [
    "# import\n",
    "import re\n",
    "import nltk\n",
    "from collections import Counter\n",
    "from nltk.tokenize import word_tokenize, sent_tokenize\n",
    "\n",
    "nltk.download('punkt')"
   ]
  },
  {
   "cell_type": "code",
   "execution_count": 58,
   "id": "2892f171",
   "metadata": {},
   "outputs": [],
   "source": [
    "# Open and read the input text\n",
    "with open('./data/alice29.txt', 'r', encoding='utf-8') as input_file:\n",
    "    input_text = input_file.read()"
   ]
  },
  {
   "cell_type": "code",
   "execution_count": 59,
   "id": "2cd1f7f9",
   "metadata": {},
   "outputs": [],
   "source": [
    "# Clean text\n",
    "def clean_text(text):\n",
    "    text = text.lower()\n",
    "    text = re.sub(r\"[^\\w\\s]\", \"\", text)  # Remove punctuation\n",
    "    text = re.sub(r\"\\s+\", \" \", text)  # Remove extra whitespace\n",
    "    return text.strip()\n",
    "\n",
    "cleaned_text = clean_text(input_text)\n",
    "\n",
    "# Write cleaned text to a new file\n",
    "with open(\"./data/cleaned.txt\", \"w\", encoding=\"utf-8\") as file:\n",
    "    file.write(cleaned_text)"
   ]
  },
  {
   "cell_type": "code",
   "execution_count": 60,
   "id": "9824c112",
   "metadata": {},
   "outputs": [],
   "source": [
    "# Tokenize into sentences\n",
    "sentences = sent_tokenize(cleaned_text)\n",
    "\n",
    "# Tokenize each sentence into words\n",
    "words = []\n",
    "for sentence in sentences:\n",
    "    words.extend(word_tokenize(sentence))\n",
    "\n",
    "# Write words to a file\n",
    "with open(\"./data/words.txt\", \"w\", encoding=\"utf-8\") as file:\n",
    "    for word in words:\n",
    "        file.write(word + \"\\n\")"
   ]
  },
  {
   "cell_type": "code",
   "execution_count": 61,
   "id": "a5f5cff2",
   "metadata": {},
   "outputs": [],
   "source": [
    "# Count word frequencies\n",
    "word_frequencies = Counter(words)\n",
    "\n",
    "# Get the top 10 most common words\n",
    "top_10_words = word_frequencies.most_common(10)\n",
    "\n",
    "# Write the top 10 words to a file\n",
    "with open(\"./data/top10words.txt\", \"w\", encoding=\"utf-8\") as file:\n",
    "    for word, freq in top_10_words:\n",
    "        file.write(f\"{word}: {freq}\\n\")\n"
   ]
  }
 ],
 "metadata": {
  "kernelspec": {
   "display_name": "nlp",
   "language": "python",
   "name": "python3"
  },
  "language_info": {
   "codemirror_mode": {
    "name": "ipython",
    "version": 3
   },
   "file_extension": ".py",
   "mimetype": "text/x-python",
   "name": "python",
   "nbconvert_exporter": "python",
   "pygments_lexer": "ipython3",
   "version": "3.12.3"
  }
 },
 "nbformat": 4,
 "nbformat_minor": 5
}
